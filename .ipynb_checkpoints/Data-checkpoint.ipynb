{
 "cells": [
  {
   "cell_type": "code",
   "execution_count": null,
   "id": "8ae363e0-bc74-4968-81a9-ee2368ec3838",
   "metadata": {},
   "outputs": [],
   "source": [
    "import pandas as pd\n",
    "import numpy as np\n",
    "import matplotlib.pyplot as plt\n",
    "import seaborn as sns\n",
    "import bisect"
   ]
  },
  {
   "cell_type": "code",
   "execution_count": null,
   "id": "472c0e2a-c908-4d06-8630-3169d656b7ec",
   "metadata": {},
   "outputs": [],
   "source": [
    "data = pd.read_csv('data.csv')"
   ]
  },
  {
   "cell_type": "code",
   "execution_count": null,
   "id": "5f6195cb-3d3e-4090-aa70-b03176da3bdc",
   "metadata": {},
   "outputs": [],
   "source": [
    "def quantize(rainfall):\n",
    "    # For sampling the input \n",
    "    breakpoints = [i for i in range(0,1500,250)]    \n",
    "    if rainfall>1500:\n",
    "        return len(breakpoints) + 1\n",
    "    \n",
    "    i = bisect.bisect_left(breakpoints, rainfall)  # left insertion index returned\n",
    "    \n",
    "    return i\n",
    "# for if it will rain or not \n",
    "#     if score>0:\n",
    "#         return 1\n",
    "#     else:\n",
    "#         return 0\n"
   ]
  },
  {
   "cell_type": "code",
   "execution_count": null,
   "id": "49f633a5-3eba-4d95-8628-1d2eae065dec",
   "metadata": {},
   "outputs": [],
   "source": [
    "df = pd.DataFrame(data)\n",
    "sns.lineplot(x= df['Month'], y= df['Rainfall']) \n",
    "plt.title(\"Month vs Rainfall\") \n"
   ]
  },
  {
   "cell_type": "code",
   "execution_count": null,
   "id": "e61a7d9d-ab01-4da6-b577-0f9d50a1c430",
   "metadata": {},
   "outputs": [],
   "source": [
    "df"
   ]
  },
  {
   "cell_type": "code",
   "execution_count": null,
   "id": "a1fc0d77-000d-43ed-972e-54144026e37e",
   "metadata": {},
   "outputs": [],
   "source": [
    "RainLevel = []\n",
    "for rainfall in data['Rainfall']:\n",
    "\n",
    "    RainLevel.append(quantize(rainfall))\n",
    "df['RainLevel'] = RainLevel\n",
    "df = df.drop(['Unnamed: 0', 'YEAR', 'X_COR', 'Y_COR', 'LATITUDE',\n",
    "      'LONGITUDE', 'ALT' ], axis=1)\n",
    "cols = ['Rainfall',]\n",
    "df[cols] = df[cols].applymap(np.int64)\n"
   ]
  },
  {
   "cell_type": "code",
   "execution_count": null,
   "id": "a02a66cd-f90b-4805-9e3f-eaefc21ebd1b",
   "metadata": {},
   "outputs": [],
   "source": [
    "sns.pairplot(df[['Rainfall','Max Temp', 'Min Temp', 'RainLevel', 'Relative Humidity','Wind Speed','Cloud Coverage','Bright Sunshine']], hue='RainLevel', corner=True)\n",
    "# Uncomment to save the figure \n",
    "#plt.savefig('pairplot.png', dpi=100, bbox_inches='tight')"
   ]
  },
  {
   "cell_type": "code",
   "execution_count": null,
   "id": "654ce44b-7dc7-45e3-b7da-3c9c8f02e701",
   "metadata": {},
   "outputs": [],
   "source": [
    "correlation_matrix = df.corr().round(3)\n",
    "mask = np.zeros_like(correlation_matrix)\n",
    "mask[np.triu_indices_from(mask)] = True\n",
    "plt.figure(figsize = (10, 7))\n",
    "# \"annot = True\" to print the values inside the square\n",
    "sns.heatmap(data=correlation_matrix, annot=True, mask = mask)\n",
    "# Uncomment to save the figure \n",
    "#plt.savefig('correlation.png', dpi=100, bbox_inches='tight')"
   ]
  },
  {
   "cell_type": "code",
   "execution_count": null,
   "id": "5fa46fed-7983-46c0-b690-10c40e1a78f5",
   "metadata": {},
   "outputs": [],
   "source": [
    "x = df[['Cloud Coverage', 'Bright Sunshine','Relative Humidity' ]]\n",
    "y = df['Rainfall']\n",
    "\n",
    "from sklearn.model_selection import train_test_split \n",
    "X_train, X_test, y_train, y_test = train_test_split(x, y, test_size = 0.3,random_state = 16)"
   ]
  },
  {
   "cell_type": "code",
   "execution_count": null,
   "id": "9c5fd30a-e6c1-41fa-9549-d523abd14c12",
   "metadata": {},
   "outputs": [],
   "source": [
    "from sklearn import svm \n",
    "from sklearn import metrics \n",
    "import numpy as np\n",
    "model_svm = svm.SVC()\n",
    "model_svm.fit(X_train, y_train) \n",
    "y_prediction_svm = model_svm.predict(X_test) \n",
    "\n",
    "score_svm = metrics.accuracy_score(y_prediction_svm, y_test).round(4)\n",
    "\n",
    "temp = [95,156,117,176,29]\n",
    "cc = [3.1,2.5,3.1,2.7,2.2]\n",
    "mt = [23.4,23.0,23.9,23.0,21.9]\n",
    "bs = [7.2,8.1,7.3,8.0,8.5]\n",
    "pdt = pd.DataFrame({'Cloud Coverage':cc,'Min Temp':mt,'Bright Sunshine':bs })\n",
    "y_svm = model_svm.predict(pdt)\n",
    "\n",
    "pdt,temp,y_svm"
   ]
  },
  {
   "cell_type": "code",
   "execution_count": null,
   "id": "64ee63f1-2787-43dd-a04e-b2affbcf3e1e",
   "metadata": {},
   "outputs": [],
   "source": [
    "from sklearn.tree import DecisionTreeClassifier \n",
    "model_dt = DecisionTreeClassifier(random_state=4)\n",
    "model_dt.fit(X_train, y_train) \n",
    "y_prediction_dt = model_dt.predict(X_test) \n",
    "score_dt = metrics.accuracy_score(y_prediction_dt, y_test).round(4)\n",
    "y_dt = model_dt.predict(pdt)\n",
    "pdt,temp,y_dt"
   ]
  },
  {
   "cell_type": "code",
   "execution_count": null,
   "id": "e7932b41-f609-4b9e-b209-5e610a67e24f",
   "metadata": {},
   "outputs": [],
   "source": [
    "\n",
    "from sklearn.neighbors import KNeighborsClassifier \n",
    "model_knn = KNeighborsClassifier(n_neighbors=3)\n",
    "model_knn.fit(X_train, y_train) \n",
    "y_prediction_knn = model_knn.predict(X_test)\n",
    "score_knn = metrics.accuracy_score(y_prediction_knn, y_test).round(4)\n",
    "y_knn = model_knn.predict(pdt)\n",
    "pdt,temp,y_knn"
   ]
  },
  {
   "cell_type": "code",
   "execution_count": null,
   "id": "7e51aaa8-7407-440e-b1a1-17dbd600eed3",
   "metadata": {},
   "outputs": [],
   "source": [
    "\n",
    "from sklearn.naive_bayes import GaussianNB\n",
    "model_nb = GaussianNB() \n",
    "model_nb.fit(X_train, y_train) \n",
    "y_prediction_nb = model_nb.predict(X_test) \n",
    "score_nb = metrics.accuracy_score(y_prediction_nb, y_test).round(4)\n",
    "y_nb = model_nb.predict(pdt)\n",
    "pdt,temp,y_nb"
   ]
  },
  {
   "cell_type": "code",
   "execution_count": null,
   "id": "dc4a7045-1e17-4211-a2b7-d61d6cf49466",
   "metadata": {},
   "outputs": [],
   "source": [
    "print('The accuracy of the SVM is: {}'.format(score_svm))\n",
    "print('The accuracy of the DT is: {}'.format(score_dt))\n",
    "print('The accuracy of the KNN is: {}'.format(score_knn))\n",
    "print('The accuracy of the NB is: {}'.format(score_nb))"
   ]
  },
  {
   "cell_type": "code",
   "execution_count": null,
   "id": "66dd0f69-70d1-4ee8-81da-c132b86a6dfd",
   "metadata": {},
   "outputs": [],
   "source": []
  },
  {
   "cell_type": "code",
   "execution_count": null,
   "id": "c66d296e-c572-46ca-ac1e-b293799a8f8f",
   "metadata": {},
   "outputs": [],
   "source": []
  },
  {
   "cell_type": "code",
   "execution_count": null,
   "id": "a6d721ab-2f7c-47aa-8e34-63ebb7fa93c8",
   "metadata": {},
   "outputs": [],
   "source": []
  },
  {
   "cell_type": "code",
   "execution_count": null,
   "id": "e9605935-47e0-4050-b1b0-11bb2c1940de",
   "metadata": {},
   "outputs": [],
   "source": []
  }
 ],
 "metadata": {
  "kernelspec": {
   "display_name": "Python 3",
   "language": "python",
   "name": "python3"
  },
  "language_info": {
   "codemirror_mode": {
    "name": "ipython",
    "version": 3
   },
   "file_extension": ".py",
   "mimetype": "text/x-python",
   "name": "python",
   "nbconvert_exporter": "python",
   "pygments_lexer": "ipython3",
   "version": "3.6.9"
  }
 },
 "nbformat": 4,
 "nbformat_minor": 5
}
