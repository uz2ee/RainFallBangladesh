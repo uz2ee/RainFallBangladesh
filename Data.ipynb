{
 "cells": [
  {
   "cell_type": "code",
   "execution_count": 1,
   "id": "8ae363e0-bc74-4968-81a9-ee2368ec3838",
   "metadata": {},
   "outputs": [],
   "source": [
    "import pandas as pd\n",
    "import numpy as np\n",
    "import matplotlib.pyplot as plt\n",
    "import seaborn as sns\n",
    "import bisect"
   ]
  },
  {
   "cell_type": "code",
   "execution_count": 2,
   "id": "472c0e2a-c908-4d06-8630-3169d656b7ec",
   "metadata": {},
   "outputs": [],
   "source": [
    "data = pd.read_csv('data.csv')"
   ]
  },
  {
   "cell_type": "code",
   "execution_count": 3,
   "id": "5f6195cb-3d3e-4090-aa70-b03176da3bdc",
   "metadata": {},
   "outputs": [],
   "source": [
    "def grade(score):\n",
    "    # For sampling the input \n",
    "    breakpoints = [i for i in range(0,1500,250)]\n",
    "    if score>1500:\n",
    "        return len(breakpoints) + 1\n",
    "    \n",
    "    i = bisect.bisect_left(breakpoints, score)  # left insertion index returned\n",
    "    return i"
   ]
  },
  {
   "cell_type": "code",
   "execution_count": 4,
   "id": "49f633a5-3eba-4d95-8628-1d2eae065dec",
   "metadata": {},
   "outputs": [
    {
     "data": {
      "text/plain": [
       "Text(0.5, 1.0, 'Month vs Rainfall')"
      ]
     },
     "execution_count": 4,
     "metadata": {},
     "output_type": "execute_result"
    },
    {
     "data": {
      "image/png": "[encoded data removed]",
      "text/plain": [
       "<Figure size 432x288 with 1 Axes>"
      ]
     },
     "metadata": {
      "needs_background": "light"
     },
     "output_type": "display_data"
    }
   ],
   "source": [
    "df = pd.DataFrame(data)\n",
    "#plt.figure(figsize=(14,10)) \n",
    "sns.lineplot(x= df['Month'], y= df['Rainfall']) \n",
    "plt.title(\"Month vs Rainfall\") \n"
   ]
  },
  {
   "cell_type": "code",
   "execution_count": 5,
   "id": "bf6b3baf-2e5c-4e79-ba26-567a5e0f19d9",
   "metadata": {},
   "outputs": [
    {
     "data": {
      "text/plain": [
       "2072.0"
      ]
     },
     "execution_count": 5,
     "metadata": {},
     "output_type": "execute_result"
    }
   ],
   "source": [
    "max(df.Rainfall)"
   ]
  },
  {
   "cell_type": "code",
   "execution_count": 6,
   "id": "a1fc0d77-000d-43ed-972e-54144026e37e",
   "metadata": {},
   "outputs": [
    {
     "data": {
      "text/plain": [
       "Index(['Unnamed: 0', 'Station Names', 'YEAR', 'Month', 'Max Temp', 'Min Temp',\n",
       "       'Rainfall', 'Relative Humidity', 'Wind Speed', 'Cloud Coverage',\n",
       "       'Bright Sunshine', 'Station Number', 'X_COR', 'Y_COR', 'LATITUDE',\n",
       "       'LONGITUDE', 'ALT', 'Period', 'RainLevel'],\n",
       "      dtype='object')"
      ]
     },
     "execution_count": 6,
     "metadata": {},
     "output_type": "execute_result"
    }
   ],
   "source": [
    "RainLevel = []\n",
    "for d in data['Rainfall']:\n",
    "    #print(d)\n",
    "    RainLevel.append(grade(d))\n",
    "df['RainLevel'] = RainLevel\n",
    "\n",
    "df.keys()"
   ]
  },
  {
   "cell_type": "code",
   "execution_count": 7,
   "id": "b7f409e9-70f3-4a2b-9e7b-98c7fe703c7c",
   "metadata": {},
   "outputs": [
    {
     "data": {
      "text/html": [
       "<div>\n",
       "<style scoped>\n",
       "    .dataframe tbody tr th:only-of-type {\n",
       "        vertical-align: middle;\n",
       "    }\n",
       "\n",
       "    .dataframe tbody tr th {\n",
       "        vertical-align: top;\n",
       "    }\n",
       "\n",
       "    .dataframe thead th {\n",
       "        text-align: right;\n",
       "    }\n",
       "</style>\n",
       "<table border=\"1\" class=\"dataframe\">\n",
       "  <thead>\n",
       "    <tr style=\"text-align: right;\">\n",
       "      <th></th>\n",
       "      <th>Station Names</th>\n",
       "      <th>Month</th>\n",
       "      <th>Max Temp</th>\n",
       "      <th>Min Temp</th>\n",
       "      <th>Rainfall</th>\n",
       "      <th>Relative Humidity</th>\n",
       "      <th>Wind Speed</th>\n",
       "      <th>Cloud Coverage</th>\n",
       "      <th>Bright Sunshine</th>\n",
       "      <th>Station Number</th>\n",
       "      <th>Period</th>\n",
       "      <th>RainLevel</th>\n",
       "    </tr>\n",
       "  </thead>\n",
       "  <tbody>\n",
       "    <tr>\n",
       "      <th>0</th>\n",
       "      <td>Barisal</td>\n",
       "      <td>1</td>\n",
       "      <td>29.4</td>\n",
       "      <td>12.3</td>\n",
       "      <td>0.0</td>\n",
       "      <td>68.0</td>\n",
       "      <td>0.453704</td>\n",
       "      <td>0.6</td>\n",
       "      <td>7.831915</td>\n",
       "      <td>41950</td>\n",
       "      <td>1949.01</td>\n",
       "      <td>0</td>\n",
       "    </tr>\n",
       "    <tr>\n",
       "      <th>1</th>\n",
       "      <td>Barisal</td>\n",
       "      <td>1</td>\n",
       "      <td>30.0</td>\n",
       "      <td>14.1</td>\n",
       "      <td>0.0</td>\n",
       "      <td>77.0</td>\n",
       "      <td>0.453704</td>\n",
       "      <td>0.8</td>\n",
       "      <td>7.831915</td>\n",
       "      <td>41950</td>\n",
       "      <td>1950.01</td>\n",
       "      <td>0</td>\n",
       "    </tr>\n",
       "    <tr>\n",
       "      <th>2</th>\n",
       "      <td>Barisal</td>\n",
       "      <td>1</td>\n",
       "      <td>28.2</td>\n",
       "      <td>12.3</td>\n",
       "      <td>0.0</td>\n",
       "      <td>77.0</td>\n",
       "      <td>0.453704</td>\n",
       "      <td>0.6</td>\n",
       "      <td>7.831915</td>\n",
       "      <td>41950</td>\n",
       "      <td>1951.01</td>\n",
       "      <td>0</td>\n",
       "    </tr>\n",
       "    <tr>\n",
       "      <th>3</th>\n",
       "      <td>Barisal</td>\n",
       "      <td>1</td>\n",
       "      <td>26.6</td>\n",
       "      <td>12.3</td>\n",
       "      <td>2.0</td>\n",
       "      <td>77.0</td>\n",
       "      <td>0.453704</td>\n",
       "      <td>1.0</td>\n",
       "      <td>7.831915</td>\n",
       "      <td>41950</td>\n",
       "      <td>1952.01</td>\n",
       "      <td>1</td>\n",
       "    </tr>\n",
       "    <tr>\n",
       "      <th>4</th>\n",
       "      <td>Barisal</td>\n",
       "      <td>1</td>\n",
       "      <td>30.0</td>\n",
       "      <td>13.3</td>\n",
       "      <td>10.0</td>\n",
       "      <td>75.0</td>\n",
       "      <td>0.453704</td>\n",
       "      <td>1.6</td>\n",
       "      <td>7.831915</td>\n",
       "      <td>41950</td>\n",
       "      <td>1953.01</td>\n",
       "      <td>1</td>\n",
       "    </tr>\n",
       "    <tr>\n",
       "      <th>...</th>\n",
       "      <td>...</td>\n",
       "      <td>...</td>\n",
       "      <td>...</td>\n",
       "      <td>...</td>\n",
       "      <td>...</td>\n",
       "      <td>...</td>\n",
       "      <td>...</td>\n",
       "      <td>...</td>\n",
       "      <td>...</td>\n",
       "      <td>...</td>\n",
       "      <td>...</td>\n",
       "      <td>...</td>\n",
       "    </tr>\n",
       "    <tr>\n",
       "      <th>21115</th>\n",
       "      <td>Teknaf</td>\n",
       "      <td>12</td>\n",
       "      <td>30.3</td>\n",
       "      <td>16.5</td>\n",
       "      <td>0.0</td>\n",
       "      <td>72.0</td>\n",
       "      <td>2.800000</td>\n",
       "      <td>0.9</td>\n",
       "      <td>8.700000</td>\n",
       "      <td>41998</td>\n",
       "      <td>2009.12</td>\n",
       "      <td>0</td>\n",
       "    </tr>\n",
       "    <tr>\n",
       "      <th>21116</th>\n",
       "      <td>Teknaf</td>\n",
       "      <td>12</td>\n",
       "      <td>31.7</td>\n",
       "      <td>16.7</td>\n",
       "      <td>193.0</td>\n",
       "      <td>79.0</td>\n",
       "      <td>2.400000</td>\n",
       "      <td>1.4</td>\n",
       "      <td>5.500000</td>\n",
       "      <td>41998</td>\n",
       "      <td>2010.12</td>\n",
       "      <td>1</td>\n",
       "    </tr>\n",
       "    <tr>\n",
       "      <th>21117</th>\n",
       "      <td>Teknaf</td>\n",
       "      <td>12</td>\n",
       "      <td>31.5</td>\n",
       "      <td>16.4</td>\n",
       "      <td>0.0</td>\n",
       "      <td>73.0</td>\n",
       "      <td>0.000000</td>\n",
       "      <td>1.5</td>\n",
       "      <td>7.400000</td>\n",
       "      <td>41998</td>\n",
       "      <td>2011.12</td>\n",
       "      <td>0</td>\n",
       "    </tr>\n",
       "    <tr>\n",
       "      <th>21118</th>\n",
       "      <td>Teknaf</td>\n",
       "      <td>12</td>\n",
       "      <td>30.0</td>\n",
       "      <td>15.8</td>\n",
       "      <td>0.0</td>\n",
       "      <td>70.0</td>\n",
       "      <td>1.800000</td>\n",
       "      <td>0.2</td>\n",
       "      <td>9.000000</td>\n",
       "      <td>41998</td>\n",
       "      <td>2012.12</td>\n",
       "      <td>0</td>\n",
       "    </tr>\n",
       "    <tr>\n",
       "      <th>21119</th>\n",
       "      <td>Teknaf</td>\n",
       "      <td>12</td>\n",
       "      <td>29.9</td>\n",
       "      <td>16.5</td>\n",
       "      <td>0.0</td>\n",
       "      <td>72.0</td>\n",
       "      <td>3.000000</td>\n",
       "      <td>0.9</td>\n",
       "      <td>8.100000</td>\n",
       "      <td>41998</td>\n",
       "      <td>2013.12</td>\n",
       "      <td>0</td>\n",
       "    </tr>\n",
       "  </tbody>\n",
       "</table>\n",
       "<p>21120 rows × 12 columns</p>\n",
       "</div>"
      ],
      "text/plain": [
       "      Station Names  Month  Max Temp  Min Temp  Rainfall  Relative Humidity  \\\n",
       "0           Barisal      1      29.4      12.3       0.0               68.0   \n",
       "1           Barisal      1      30.0      14.1       0.0               77.0   \n",
       "2           Barisal      1      28.2      12.3       0.0               77.0   \n",
       "3           Barisal      1      26.6      12.3       2.0               77.0   \n",
       "4           Barisal      1      30.0      13.3      10.0               75.0   \n",
       "...             ...    ...       ...       ...       ...                ...   \n",
       "21115        Teknaf     12      30.3      16.5       0.0               72.0   \n",
       "21116        Teknaf     12      31.7      16.7     193.0               79.0   \n",
       "21117        Teknaf     12      31.5      16.4       0.0               73.0   \n",
       "21118        Teknaf     12      30.0      15.8       0.0               70.0   \n",
       "21119        Teknaf     12      29.9      16.5       0.0               72.0   \n",
       "\n",
       "       Wind Speed  Cloud Coverage  Bright Sunshine  Station Number   Period  \\\n",
       "0        0.453704             0.6         7.831915           41950  1949.01   \n",
       "1        0.453704             0.8         7.831915           41950  1950.01   \n",
       "2        0.453704             0.6         7.831915           41950  1951.01   \n",
       "3        0.453704             1.0         7.831915           41950  1952.01   \n",
       "4        0.453704             1.6         7.831915           41950  1953.01   \n",
       "...           ...             ...              ...             ...      ...   \n",
       "21115    2.800000             0.9         8.700000           41998  2009.12   \n",
       "21116    2.400000             1.4         5.500000           41998  2010.12   \n",
       "21117    0.000000             1.5         7.400000           41998  2011.12   \n",
       "21118    1.800000             0.2         9.000000           41998  2012.12   \n",
       "21119    3.000000             0.9         8.100000           41998  2013.12   \n",
       "\n",
       "       RainLevel  \n",
       "0              0  \n",
       "1              0  \n",
       "2              0  \n",
       "3              1  \n",
       "4              1  \n",
       "...          ...  \n",
       "21115          0  \n",
       "21116          1  \n",
       "21117          0  \n",
       "21118          0  \n",
       "21119          0  \n",
       "\n",
       "[21120 rows x 12 columns]"
      ]
     },
     "execution_count": 7,
     "metadata": {},
     "output_type": "execute_result"
    }
   ],
   "source": [
    "df = df.drop(['Unnamed: 0', 'YEAR', 'X_COR', 'Y_COR', 'LATITUDE',\n",
    "       'LONGITUDE', 'ALT' ], axis=1)\n",
    "\n",
    "df"
   ]
  },
  {
   "cell_type": "code",
   "execution_count": null,
   "id": "a02a66cd-f90b-4805-9e3f-eaefc21ebd1b",
   "metadata": {},
   "outputs": [],
   "source": [
    "sns.pairplot(df[['Rainfall','Max Temp', 'Min Temp', 'RainLevel', 'Relative Humidity']], hue='RainLevel');"
   ]
  },
  {
   "cell_type": "code",
   "execution_count": null,
   "id": "2db975f4-3eac-4a40-9602-ad2c97528176",
   "metadata": {},
   "outputs": [],
   "source": [
    "sns.pairplot(df[['Rainfall','Wind Speed','Cloud Coverage','Bright Sunshine','Period']], hue='RainLevel');"
   ]
  },
  {
   "cell_type": "code",
   "execution_count": null,
   "id": "654ce44b-7dc7-45e3-b7da-3c9c8f02e701",
   "metadata": {},
   "outputs": [],
   "source": [
    "# plt.figure(figsize=(14,10)) \n",
    "# sns.stripplot(x='Month', y='Rainfall', data=df,jitter=True,\n",
    "#  hue='Station Names',\n",
    "#  dodge=False\n",
    "#  )\n",
    " \n",
    "# plt.title(\"Station vs Rainfall\");\n"
   ]
  },
  {
   "cell_type": "code",
   "execution_count": null,
   "id": "492865c1-d968-4931-b53c-3ac790dba07c",
   "metadata": {},
   "outputs": [],
   "source": [
    "# plt.figure(figsize=(14,10)) \n",
    "# sns.stripplot(x='Month', y='Rainfall', data=df,jitter=True,\n",
    "#  hue='Station Names',\n",
    "#  dodge=False\n",
    "#  )\n",
    " \n",
    "# plt.title(\"Station vs Rainfall\");"
   ]
  },
  {
   "cell_type": "code",
   "execution_count": null,
   "id": "2acc83f6-2a67-4c5e-9d32-4366f85ac6e5",
   "metadata": {},
   "outputs": [],
   "source": []
  },
  {
   "cell_type": "code",
   "execution_count": null,
   "id": "5fa46fed-7983-46c0-b690-10c40e1a78f5",
   "metadata": {},
   "outputs": [],
   "source": [
    "x = df[['Month' , 'Relative Humidity', 'Min Temp'   ]]\n",
    "y = df['RainLevel']\n",
    "\n",
    "from sklearn.model_selection import train_test_split \n",
    "X_train, X_test, y_train, y_test = train_test_split(x, y, test_size = 0.3,random_state = 16)"
   ]
  },
  {
   "cell_type": "code",
   "execution_count": null,
   "id": "9c5fd30a-e6c1-41fa-9549-d523abd14c12",
   "metadata": {},
   "outputs": [],
   "source": [
    "\n",
    "from sklearn import svm \n",
    "from sklearn import metrics \n",
    "import numpy as np\n",
    "model_svm = svm.SVC()\n",
    "model_svm.fit(X_train, y_train) \n",
    "y_prediction_svm = model_svm.predict(X_test) \n",
    "score_svm = metrics.accuracy_score(y_prediction_svm, y_test).round(4)"
   ]
  },
  {
   "cell_type": "code",
   "execution_count": null,
   "id": "64ee63f1-2787-43dd-a04e-b2affbcf3e1e",
   "metadata": {},
   "outputs": [],
   "source": [
    "from sklearn.tree import DecisionTreeClassifier \n",
    "model_dt = DecisionTreeClassifier(random_state=4)\n",
    "model_dt.fit(X_train, y_train) \n",
    "y_prediction_dt = model_dt.predict(X_test) \n",
    "score_dt = metrics.accuracy_score(y_prediction_dt, y_test).round(4)\n"
   ]
  },
  {
   "cell_type": "code",
   "execution_count": null,
   "id": "e7932b41-f609-4b9e-b209-5e610a67e24f",
   "metadata": {},
   "outputs": [],
   "source": [
    "\n",
    "from sklearn.neighbors import KNeighborsClassifier \n",
    "model_knn = KNeighborsClassifier(n_neighbors=3)\n",
    "model_knn.fit(X_train, y_train) \n",
    "y_prediction_knn = model_knn.predict(X_test)\n",
    "score_knn = metrics.accuracy_score(y_prediction_knn, y_test).round(4)"
   ]
  },
  {
   "cell_type": "code",
   "execution_count": null,
   "id": "7e51aaa8-7407-440e-b1a1-17dbd600eed3",
   "metadata": {},
   "outputs": [],
   "source": [
    "\n",
    "from sklearn.naive_bayes import GaussianNB\n",
    "model_nb = GaussianNB() \n",
    "model_nb.fit(X_train, y_train) \n",
    "y_prediction_nb = model_nb.predict(X_test) \n",
    "score_nb = metrics.accuracy_score(y_prediction_nb, y_test).round(4)"
   ]
  },
  {
   "cell_type": "code",
   "execution_count": null,
   "id": "dc4a7045-1e17-4211-a2b7-d61d6cf49466",
   "metadata": {},
   "outputs": [],
   "source": [
    "print('The accuracy of the SVM is: {}'.format(score_svm))\n",
    "print('The accuracy of the DT is: {}'.format(score_dt))\n",
    "print('The accuracy of the KNN is: {}'.format(score_knn))\n",
    "print('The accuracy of the NB is: {}'.format(score_nb))"
   ]
  },
  {
   "cell_type": "code",
   "execution_count": null,
   "id": "66dd0f69-70d1-4ee8-81da-c132b86a6dfd",
   "metadata": {},
   "outputs": [],
   "source": []
  }
 ],
 "metadata": {
  "kernelspec": {
   "display_name": "Python 3",
   "language": "python",
   "name": "python3"
  },
  "language_info": {
   "codemirror_mode": {
    "name": "ipython",
    "version": 3
   },
   "file_extension": ".py",
   "mimetype": "text/x-python",
   "name": "python",
   "nbconvert_exporter": "python",
   "pygments_lexer": "ipython3",
   "version": "3.6.9"
  }
 },
 "nbformat": 4,
 "nbformat_minor": 5
}
